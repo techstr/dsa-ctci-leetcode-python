{
 "cells": [
  {
   "cell_type": "markdown",
   "id": "00593f39",
   "metadata": {},
   "source": [
    "# Import Required Libraries\n",
    "Import necessary libraries such as NumPy for array manipulation."
   ]
  },
  {
   "cell_type": "code",
   "execution_count": null,
   "id": "a9f2fcf4",
   "metadata": {},
   "outputs": [],
   "source": [
    "# Import Required Libraries\n",
    "import numpy as np"
   ]
  },
  {
   "cell_type": "markdown",
   "id": "e4148c0e",
   "metadata": {},
   "source": [
    "# Initialize Arrays\n",
    "Demonstrate how to create arrays using NumPy, including 1D, 2D, and 3D arrays."
   ]
  },
  {
   "cell_type": "code",
   "execution_count": null,
   "id": "9abd4556",
   "metadata": {},
   "outputs": [],
   "source": [
    "# Initialize 1D, 2D, and 3D arrays\n",
    "# 1D Array\n",
    "array_1d = np.array([1, 2, 3, 4, 5])\n",
    "\n",
    "# 2D Array\n",
    "array_2d = np.array([[1, 2, 3], [4, 5, 6]])\n",
    "\n",
    "# 3D Array\n",
    "array_3d = np.array([[[1, 2], [3, 4]], [[5, 6], [7, 8]]])\n",
    "\n",
    "print(\"1D Array:\", array_1d)\n",
    "print(\"2D Array:\\n\", array_2d)\n",
    "print(\"3D Array:\\n\", array_3d)"
   ]
  },
  {
   "cell_type": "markdown",
   "id": "7d6ba031",
   "metadata": {},
   "source": [
    "# Access Array Elements\n",
    "Show how to access individual elements and subsets of an array using indexing."
   ]
  },
  {
   "cell_type": "code",
   "execution_count": null,
   "id": "7a8e4c8f",
   "metadata": {},
   "outputs": [],
   "source": [
    "# Accessing elements in arrays\n",
    "# Accessing elements in a 1D array\n",
    "print(\"Element at index 2 in 1D array:\", array_1d[2])\n",
    "\n",
    "# Accessing elements in a 2D array\n",
    "print(\"Element at row 1, column 2 in 2D array:\", array_2d[1, 2])\n",
    "\n",
    "# Accessing elements in a 3D array\n",
    "print(\"Element at block 1, row 0, column 1 in 3D array:\", array_3d[1, 0, 1])"
   ]
  },
  {
   "cell_type": "markdown",
   "id": "2c373165",
   "metadata": {},
   "source": [
    "# Modify Array Elements\n",
    "Explain how to update values in an array by referencing specific indices."
   ]
  },
  {
   "cell_type": "code",
   "execution_count": null,
   "id": "345efd8b",
   "metadata": {},
   "outputs": [],
   "source": [
    "# Modifying elements in arrays\n",
    "# Modify an element in a 1D array\n",
    "array_1d[2] = 10\n",
    "print(\"Modified 1D Array:\", array_1d)\n",
    "\n",
    "# Modify an element in a 2D array\n",
    "array_2d[1, 2] = 20\n",
    "print(\"Modified 2D Array:\\n\", array_2d)\n",
    "\n",
    "# Modify an element in a 3D array\n",
    "array_3d[1, 0, 1] = 30\n",
    "print(\"Modified 3D Array:\\n\", array_3d)"
   ]
  },
  {
   "cell_type": "markdown",
   "id": "38922d48",
   "metadata": {},
   "source": [
    "# Iterate Through Arrays\n",
    "Illustrate how to loop through arrays using for loops and vectorized operations."
   ]
  },
  {
   "cell_type": "code",
   "execution_count": null,
   "id": "bdb75c85",
   "metadata": {},
   "outputs": [],
   "source": [
    "# Iterating through arrays\n",
    "# Iterate through a 1D array\n",
    "print(\"Iterating through 1D array:\")\n",
    "for element in array_1d:\n",
    "    print(element)\n",
    "\n",
    "# Iterate through a 2D array\n",
    "print(\"\\nIterating through 2D array:\")\n",
    "for row in array_2d:\n",
    "    print(row)\n",
    "\n",
    "# Iterate through a 3D array\n",
    "print(\"\\nIterating through 3D array:\")\n",
    "for block in array_3d:\n",
    "    print(block)"
   ]
  },
  {
   "cell_type": "markdown",
   "id": "288c1ac0",
   "metadata": {},
   "source": [
    "# Array Slicing\n",
    "Provide examples of slicing arrays to extract specific rows, columns, or subarrays."
   ]
  },
  {
   "cell_type": "code",
   "execution_count": null,
   "id": "3658bee5",
   "metadata": {},
   "outputs": [],
   "source": [
    "# Slicing arrays\n",
    "# Slicing a 1D array\n",
    "slice_1d = array_1d[1:4]\n",
    "print(\"Sliced 1D Array:\", slice_1d)\n",
    "\n",
    "# Slicing a 2D array\n",
    "slice_2d = array_2d[:, 1:3]\n",
    "print(\"Sliced 2D Array:\\n\", slice_2d)\n",
    "\n",
    "# Slicing a 3D array\n",
    "slice_3d = array_3d[0, :, :]\n",
    "print(\"Sliced 3D Array:\\n\", slice_3d)"
   ]
  },
  {
   "cell_type": "markdown",
   "id": "ef84a91c",
   "metadata": {},
   "source": [
    "# Common Array Operations\n",
    "Cover operations such as addition, subtraction, multiplication, division, and broadcasting."
   ]
  },
  {
   "cell_type": "code",
   "execution_count": null,
   "id": "e8540236",
   "metadata": {},
   "outputs": [],
   "source": [
    "# Common array operations\n",
    "# Addition\n",
    "array_sum = array_1d + 5\n",
    "print(\"Array after addition:\", array_sum)\n",
    "\n",
    "# Subtraction\n",
    "array_diff = array_1d - 2\n",
    "print(\"Array after subtraction:\", array_diff)\n",
    "\n",
    "# Multiplication\n",
    "array_product = array_1d * 3\n",
    "print(\"Array after multiplication:\", array_product)\n",
    "\n",
    "# Division\n",
    "array_div = array_1d / 2\n",
    "print(\"Array after division:\", array_div)\n",
    "\n",
    "# Broadcasting\n",
    "broadcast_result = array_2d + np.array([1, 2, 3])\n",
    "print(\"Broadcasted Array:\\n\", broadcast_result)"
   ]
  }
 ],
 "metadata": {
  "kernelspec": {
   "display_name": ".venv",
   "language": "python",
   "name": "python3"
  },
  "language_info": {
   "codemirror_mode": {
    "name": "ipython",
    "version": 3
   },
   "file_extension": ".py",
   "mimetype": "text/x-python",
   "name": "python",
   "nbconvert_exporter": "python",
   "pygments_lexer": "ipython3",
   "version": "3.12.9"
  }
 },
 "nbformat": 4,
 "nbformat_minor": 5
}
