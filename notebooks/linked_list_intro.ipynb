{
 "cells": [
  {
   "cell_type": "markdown",
   "id": "7386c8f1",
   "metadata": {},
   "source": [
    "# Introduction to Linked Lists\n",
    "A linked list is a linear data structure where each element (called a node) contains two parts:\n",
    "1. **Data**: The value stored in the node.\n",
    "2. **Pointer**: A reference to the next node in the sequence.\n",
    "\n",
    "Unlike arrays, linked lists do not require contiguous memory locations. They are dynamic in nature and can grow or shrink as needed."
   ]
  },
  {
   "cell_type": "markdown",
   "id": "ae1a2749",
   "metadata": {},
   "source": [
    "## Types of Linked Lists\n",
    "1. **Singly Linked List**: Each node points to the next node, and the last node points to `null`.\n",
    "2. **Doubly Linked List**: Each node has two pointers, one pointing to the next node and another to the previous node.\n",
    "3. **Circular Linked List**: The last node points back to the first node, forming a circle."
   ]
  },
  {
   "cell_type": "code",
   "execution_count": null,
   "id": "1200ea22",
   "metadata": {},
   "outputs": [],
   "source": [
    "# Define a Node class for a singly linked list\n",
    "class Node:\n",
    "    def __init__(self, data):\n",
    "        self.data = data  # Store the data\n",
    "        self.next = None  # Pointer to the next node\n",
    "\n",
    "\n",
    "# Define a LinkedList class\n",
    "class LinkedList:\n",
    "    def __init__(self):\n",
    "        self.head = None  # Initialize the head of the linked list\n",
    "\n",
    "    def append(self, data):\n",
    "        new_node = Node(data)\n",
    "        if not self.head:\n",
    "            self.head = new_node\n",
    "            return\n",
    "        current = self.head\n",
    "        while current.next:\n",
    "            current = current.next\n",
    "        current.next = new_node\n",
    "\n",
    "    def reverse(self):\n",
    "        prev = None\n",
    "        current = self.head\n",
    "        while current:\n",
    "            next_node = current.next\n",
    "            current.next = prev\n",
    "            prev = current\n",
    "            current = next_node\n",
    "        self.head = prev\n",
    "\n",
    "    def insert_at_beginning(self, data):\n",
    "        new_node = Node(data)\n",
    "        new_node.next = self.head\n",
    "        self.head = new_node\n",
    "\n",
    "    def delete_node(self, key):\n",
    "        current = self.head\n",
    "        prev = None\n",
    "        # If the head node itself holds the key\n",
    "        if current and current.data == key:\n",
    "            self.head = current.next\n",
    "            current = None\n",
    "            return\n",
    "        # Search for the key to be deleted\n",
    "        while current and current.data != key:\n",
    "            prev = current\n",
    "            current = current.next\n",
    "        # If the key was not present in the linked list\n",
    "        if current is None:\n",
    "            return\n",
    "        # Unlink the node from the linked list\n",
    "        prev.next = current.next\n",
    "        current = None\n",
    "\n",
    "    def search(self, key):\n",
    "        current = self.head\n",
    "        while current:\n",
    "            if current.data == key:\n",
    "                return True\n",
    "            current = current.next\n",
    "        return False\n",
    "\n",
    "    def get_length(self):\n",
    "        current = self.head\n",
    "        count = 0\n",
    "        while current:\n",
    "            count += 1\n",
    "            current = current.next\n",
    "        return count\n",
    "\n",
    "    def traverse(self):\n",
    "        current = self.head\n",
    "        while current:\n",
    "            print(current.data, end=\" -> \" if current.next else \"\")\n",
    "            current = current.next"
   ]
  },
  {
   "cell_type": "markdown",
   "id": "e1316dc2",
   "metadata": {},
   "source": [
    "## Basic Operations\n",
    "1. **Append**: Add a new node to the end of the linked list.\n",
    "2. **Display**: Traverse the linked list and print the data in each node."
   ]
  },
  {
   "cell_type": "markdown",
   "id": "0e64b531",
   "metadata": {},
   "source": [
    "## Additional Examples\n",
    "Here are more examples to demonstrate linked list operations."
   ]
  },
  {
   "cell_type": "markdown",
   "id": "392e6273",
   "metadata": {},
   "source": [
    "## Traversal Logic\n",
    "Traversal is the process of visiting each node in the linked list. Below is an example of a traversal function that prints all the elements in the linked list."
   ]
  },
  {
   "cell_type": "code",
   "execution_count": null,
   "id": "e0fde3a6",
   "metadata": {},
   "outputs": [],
   "source": [
    "# Example usage\n",
    "ll = LinkedList()\n",
    "ll.append(10)\n",
    "ll.append(20)\n",
    "ll.append(30)\n",
    "\n",
    "# Use the previously defined functions\n",
    "ll.insert_at_beginning(5)\n",
    "ll.delete_node(20)\n",
    "print(\"Search for 10:\", ll.search(10))\n",
    "print(\"Search for 40:\", ll.search(40))\n",
    "\n",
    "# Traverse the linked list\n",
    "ll.traverse()"
   ]
  }
 ],
 "metadata": {
  "kernelspec": {
   "display_name": ".venv",
   "language": "python",
   "name": "python3"
  },
  "language_info": {
   "codemirror_mode": {
    "name": "ipython",
    "version": 3
   },
   "file_extension": ".py",
   "mimetype": "text/x-python",
   "name": "python",
   "nbconvert_exporter": "python",
   "pygments_lexer": "ipython3",
   "version": "3.12.9"
  }
 },
 "nbformat": 4,
 "nbformat_minor": 5
}
