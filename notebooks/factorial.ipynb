{
 "cells": [
  {
   "cell_type": "markdown",
   "metadata": {},
   "source": [
    "# Define the Factorial Function\n",
    "Implement a function to calculate the factorial of a number using recursion or iteration."
   ]
  },
  {
   "cell_type": "code",
   "execution_count": null,
   "metadata": {},
   "outputs": [],
   "source": [
    "import ipytest\n",
    "\n",
    "ipytest.autoconfig()"
   ]
  },
  {
   "cell_type": "code",
   "execution_count": null,
   "metadata": {},
   "outputs": [],
   "source": [
    "# Define the factorial function using tail recursion for better memory usage\n",
    "def factorial(n):\n",
    "    if n < 0:\n",
    "        raise ValueError(\"Factorial is not defined for negative numbers.\")\n",
    "\n",
    "    def tail_factorial(n, accumulator=1):\n",
    "        if n == 0 or n == 1:\n",
    "            return accumulator\n",
    "        return tail_factorial(n - 1, n * accumulator)\n",
    "\n",
    "    return tail_factorial(n)"
   ]
  },
  {
   "cell_type": "markdown",
   "metadata": {},
   "source": [
    "# Write Unit Test Cases with Pytest\n",
    "Write pytest test cases to validate the factorial function for various inputs, including edge cases like 0 and negative numbers."
   ]
  },
  {
   "cell_type": "code",
   "execution_count": null,
   "metadata": {},
   "outputs": [],
   "source": [
    "%%ipytest\n",
    "# Write pytest test cases to validate the factorial function\n",
    "import pytest\n",
    "\n",
    "@pytest.mark.parametrize(\n",
    "    \"input,expected\",\n",
    "    [\n",
    "        (0, 1),  # Edge case: factorial of 0 is 1\n",
    "        (1, 1),  # Base case: factorial of 1 is 1\n",
    "        (5, 120),  # General case: factorial of 5 is 120\n",
    "        (3, 6),  # General case: factorial of 3 is 6\n",
    "    ],\n",
    ")\n",
    "def test_factorial(input, expected):\n",
    "    assert factorial(input) == expected\n",
    "\n",
    "def test_factorial_negative():\n",
    "    with pytest.raises(ValueError, match=\"Factorial is not defined for negative numbers.\"):\n",
    "        factorial(-1)  # Edge case: negative input should raise ValueError"
   ]
  }
 ],
 "metadata": {
  "kernelspec": {
   "display_name": ".venv",
   "language": "python",
   "name": "python3"
  },
  "language_info": {
   "codemirror_mode": {
    "name": "ipython",
    "version": 3
   },
   "file_extension": ".py",
   "mimetype": "text/x-python",
   "name": "python",
   "nbconvert_exporter": "python",
   "pygments_lexer": "ipython3",
   "version": "3.11.5"
  }
 },
 "nbformat": 4,
 "nbformat_minor": 2
}
